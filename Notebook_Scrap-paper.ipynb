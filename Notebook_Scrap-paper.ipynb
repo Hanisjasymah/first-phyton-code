{
    "cells": [
        {
            "metadata": {},
            "cell_type": "markdown",
            "source": "<h1 id=\"syntax\" align=\"center\"> Syntax </h1>"
        },
        {
            "metadata": {},
            "cell_type": "markdown",
            "source": "If Statement"
        },
        {
            "metadata": {},
            "cell_type": "code",
            "source": "happy=8\n\nif (happy>10): \n    print(\":)\")\n    \nprint(\"try again\")",
            "execution_count": 41,
            "outputs": [
                {
                    "output_type": "stream",
                    "text": "try again\n",
                    "name": "stdout"
                }
            ]
        },
        {
            "metadata": {},
            "cell_type": "markdown",
            "source": "Else Statement"
        },
        {
            "metadata": {},
            "cell_type": "code",
            "source": "x=5\nif (x>9):\n    print(\"a loooot\")\n    \nelse:\n    print(\"not much\")\n    \nprint(\"move on\")",
            "execution_count": 16,
            "outputs": [
                {
                    "output_type": "stream",
                    "text": "not much\nmove on\n",
                    "name": "stdout"
                }
            ]
        },
        {
            "metadata": {},
            "cell_type": "markdown",
            "source": "Else if Statement"
        },
        {
            "metadata": {},
            "cell_type": "code",
            "source": "y=10\nif (y>10):\n    print(\"10 and above\")\n    \nelif (y==10):\n    print(\"exactly 10\")\n    \nelse:\n    print(\"less than 10\")",
            "execution_count": 32,
            "outputs": [
                {
                    "output_type": "stream",
                    "text": "exactly 10\n",
                    "name": "stdout"
                }
            ]
        },
        {
            "metadata": {},
            "cell_type": "markdown",
            "source": "OR Operators"
        },
        {
            "metadata": {},
            "cell_type": "code",
            "source": "number=101\n\nif(number<10) or (number>100):\n    print(\"number is less than 10 or larger than 100\")\n    \nelse:\n    print(\"number is between 10 and 100\")",
            "execution_count": 6,
            "outputs": [
                {
                    "output_type": "stream",
                    "text": "number is less than 10 or larger than 100\n",
                    "name": "stdout"
                }
            ]
        },
        {
            "metadata": {},
            "cell_type": "markdown",
            "source": "AND Operators"
        },
        {
            "metadata": {},
            "cell_type": "code",
            "source": "number=9\n\nif(number>=0)and(number<=10):\n    print(\"number is less than or equal to positive 10\")\n    \nelse:\n    print(\"number is larger than positive 10 or negative\")",
            "execution_count": 3,
            "outputs": [
                {
                    "output_type": "stream",
                    "text": "number is less than or equal to positive 10\n",
                    "name": "stdout"
                }
            ]
        },
        {
            "metadata": {},
            "cell_type": "markdown",
            "source": "Range"
        },
        {
            "metadata": {},
            "cell_type": "code",
            "source": "range (10,15)",
            "execution_count": 16,
            "outputs": [
                {
                    "output_type": "execute_result",
                    "execution_count": 16,
                    "data": {
                        "text/plain": "range(10, 15)"
                    },
                    "metadata": {}
                }
            ]
        },
        {
            "metadata": {},
            "cell_type": "markdown",
            "source": "For loop"
        },
        {
            "metadata": {},
            "cell_type": "code",
            "source": "#replace squares color to white\n\nsquares=[\"red\", \"yellow\", \"green\", \"purple\", \"blue\"]\n\nfor i in range(0,5):\n    squares [i]=\"white\"\n    print (squares)",
            "execution_count": 8,
            "outputs": [
                {
                    "output_type": "stream",
                    "text": "['white', 'yellow', 'green', 'purple', 'blue']\n['white', 'white', 'green', 'purple', 'blue']\n['white', 'white', 'white', 'purple', 'blue']\n['white', 'white', 'white', 'white', 'blue']\n['white', 'white', 'white', 'white', 'white']\n",
                    "name": "stdout"
                }
            ]
        },
        {
            "metadata": {},
            "cell_type": "code",
            "source": "#display the value of variable squares\n\nsquares=[\"red\", \"yellow\", \"green\"]\n\nfor square in squares:\n    print (square)",
            "execution_count": 18,
            "outputs": [
                {
                    "output_type": "stream",
                    "text": "red\nyellow\ngreen\n",
                    "name": "stdout"
                }
            ]
        },
        {
            "metadata": {},
            "cell_type": "markdown",
            "source": "Enumerate"
        },
        {
            "metadata": {},
            "cell_type": "code",
            "source": "squares=[\"red\", \"yellow\", \"green\"]\n\nfor i, square in enumerate (squares):\n    print(square)",
            "execution_count": 16,
            "outputs": [
                {
                    "output_type": "stream",
                    "text": "red\nyellow\ngreen\n",
                    "name": "stdout"
                }
            ]
        },
        {
            "metadata": {},
            "cell_type": "markdown",
            "source": "While loops"
        },
        {
            "metadata": {},
            "cell_type": "code",
            "source": "squares=[\"orange\", \"orange\", \"purple\", \"blue\"]\n\nNewsquares=[]\ni=0\n\nwhile(squares[i]==\"orange\"):\n    Newsquares.append(squares[i])\n    i=i+1\n    print (Newsquares)",
            "execution_count": 20,
            "outputs": [
                {
                    "output_type": "stream",
                    "text": "['orange']\n['orange', 'orange']\n",
                    "name": "stdout"
                }
            ]
        },
        {
            "metadata": {},
            "cell_type": "markdown",
            "source": "Functions syntax"
        },
        {
            "metadata": {},
            "cell_type": "code",
            "source": "#len function\n\nalbum_ratings=[10.0, 9.9, 8.0, 5.5, 8.6, 7.6, 9.0]\n\nlen(album_ratings)",
            "execution_count": 24,
            "outputs": [
                {
                    "output_type": "execute_result",
                    "execution_count": 24,
                    "data": {
                        "text/plain": "7"
                    },
                    "metadata": {}
                }
            ]
        },
        {
            "metadata": {},
            "cell_type": "code",
            "source": "#sum function\n\nsum(album_ratings)",
            "execution_count": 25,
            "outputs": [
                {
                    "output_type": "execute_result",
                    "execution_count": 25,
                    "data": {
                        "text/plain": "58.6"
                    },
                    "metadata": {}
                }
            ]
        },
        {
            "metadata": {},
            "cell_type": "code",
            "source": "#sorted function\n\nsorted_album_ratings=sorted(album_ratings)\n\nprint (sorted_album_ratings)",
            "execution_count": 27,
            "outputs": [
                {
                    "output_type": "stream",
                    "text": "[5.5, 7.6, 8.0, 8.6, 9.0, 9.9, 10.0]\n",
                    "name": "stdout"
                }
            ]
        },
        {
            "metadata": {},
            "cell_type": "code",
            "source": "#method sort\n\nalbum_ratings.sort()\n\nprint(album_ratings)",
            "execution_count": 30,
            "outputs": [
                {
                    "output_type": "stream",
                    "text": "[5.5, 7.6, 8.0, 8.6, 9.0, 9.9, 10.0]\n",
                    "name": "stdout"
                }
            ]
        },
        {
            "metadata": {},
            "cell_type": "markdown",
            "source": "Create a function"
        },
        {
            "metadata": {},
            "cell_type": "code",
            "source": "#add 1 \n\ndef add1(a):\n    \n    b=a+1\n    \n    return b\n\nadd1(9)",
            "execution_count": 18,
            "outputs": [
                {
                    "output_type": "execute_result",
                    "execution_count": 18,
                    "data": {
                        "text/plain": "10"
                    },
                    "metadata": {}
                }
            ]
        },
        {
            "metadata": {},
            "cell_type": "code",
            "source": "c=add1(6)\nprint (c)",
            "execution_count": 19,
            "outputs": [
                {
                    "output_type": "stream",
                    "text": "7\n",
                    "name": "stdout"
                }
            ]
        },
        {
            "metadata": {},
            "cell_type": "markdown",
            "source": "Documentation string"
        },
        {
            "metadata": {},
            "cell_type": "code",
            "source": "def add1(a):\n    \"\"\"\"\n    add 1 to a\n    \"\"\"\n    \n    b=a+1\n    \n    return b\n\nhelp(add1)",
            "execution_count": 21,
            "outputs": [
                {
                    "output_type": "stream",
                    "text": "Help on function add1 in module __main__:\n\nadd1(a)\n    \"\n    add 1 to a\n\n",
                    "name": "stdout"
                }
            ]
        },
        {
            "metadata": {},
            "cell_type": "markdown",
            "source": "Multiple parameters"
        },
        {
            "metadata": {},
            "cell_type": "code",
            "source": "def Mult(a,b):\n   \n    c=a*b\n    \n    return c\n\nMult(2,\"Michael Jackson\")\n\n#If input a string in the parameter, it  will still run but need to be careful later on when the expected\n#program need to run interger instead of string\n#therefore, need to check the program thoroughly",
            "execution_count": 29,
            "outputs": [
                {
                    "output_type": "execute_result",
                    "execution_count": 29,
                    "data": {
                        "text/plain": "'Michael JacksonMichael Jackson'"
                    },
                    "metadata": {}
                }
            ]
        },
        {
            "metadata": {},
            "cell_type": "code",
            "source": "def MJ():\n    print (\"Michael Backson\")\n    \nMJ()",
            "execution_count": 36,
            "outputs": [
                {
                    "output_type": "stream",
                    "text": "Michael Backson\nNone\n",
                    "name": "stdout"
                }
            ]
        },
        {
            "metadata": {},
            "cell_type": "code",
            "source": "def NoWork():\n    pass\n\nprint (NoWork())\n\n#",
            "execution_count": 35,
            "outputs": [
                {
                    "output_type": "stream",
                    "text": "None\n",
                    "name": "stdout"
                }
            ]
        }
    ],
    "metadata": {
        "kernelspec": {
            "name": "python3",
            "display_name": "Python 3.7",
            "language": "python"
        },
        "language_info": {
            "name": "python",
            "version": "3.7.9",
            "mimetype": "text/x-python",
            "codemirror_mode": {
                "name": "ipython",
                "version": 3
            },
            "pygments_lexer": "ipython3",
            "nbconvert_exporter": "python",
            "file_extension": ".py"
        }
    },
    "nbformat": 4,
    "nbformat_minor": 1
}