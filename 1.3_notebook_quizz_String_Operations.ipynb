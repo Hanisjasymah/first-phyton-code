{
    "cells": [
        {
            "cell_type": "markdown",
            "metadata": {},
            "source": "<h3 align=center>Test Book Paper </h3>"
        },
        {
            "cell_type": "markdown",
            "metadata": {},
            "source": "Review questions module 1 :"
        },
        {
            "cell_type": "code",
            "execution_count": 2,
            "metadata": {},
            "outputs": [
                {
                    "data": {
                        "text/plain": "7"
                    },
                    "execution_count": 2,
                    "metadata": {},
                    "output_type": "execute_result"
                }
            ],
            "source": "3+2*2"
        },
        {
            "cell_type": "code",
            "execution_count": 7,
            "metadata": {},
            "outputs": [
                {
                    "name": "stdout",
                    "output_type": "stream",
                    "text": "Li\n"
                }
            ],
            "source": "name=\"Lizz\"\n\nprint(name[0:2])"
        },
        {
            "cell_type": "code",
            "execution_count": 9,
            "metadata": {},
            "outputs": [
                {
                    "name": "stdout",
                    "output_type": "stream",
                    "text": "0246\n"
                }
            ],
            "source": "var='01234567'\n\nprint(var[::2])"
        },
        {
            "cell_type": "code",
            "execution_count": 10,
            "metadata": {},
            "outputs": [
                {
                    "data": {
                        "text/plain": "'12'"
                    },
                    "execution_count": 10,
                    "metadata": {},
                    "output_type": "execute_result"
                }
            ],
            "source": "'1'+'2'"
        },
        {
            "cell_type": "code",
            "execution_count": 11,
            "metadata": {
                "scrolled": true
            },
            "outputs": [
                {
                    "data": {
                        "text/plain": "'HELLO'"
                    },
                    "execution_count": 11,
                    "metadata": {},
                    "output_type": "execute_result"
                }
            ],
            "source": "myvar = 'hello'\nmyvar.upper()"
        },
        {
            "cell_type": "markdown",
            "metadata": {},
            "source": "<h3 align=center>Slicing </h3>"
        },
        {
            "cell_type": "markdown",
            "metadata": {},
            "source": "Use slicing to find the first four elements of the following string:"
        },
        {
            "cell_type": "code",
            "execution_count": 12,
            "metadata": {},
            "outputs": [
                {
                    "data": {
                        "text/plain": "'ABCD'"
                    },
                    "execution_count": 12,
                    "metadata": {},
                    "output_type": "execute_result"
                }
            ],
            "source": "Letters=\"ABCDEFGHIJK\"\nLetters[0:4]"
        },
        {
            "cell_type": "markdown",
            "metadata": {},
            "source": "<h3 align=center>Strides are Good </h3> "
        },
        {
            "cell_type": "markdown",
            "metadata": {},
            "source": "Use a stride value of two on the following string :"
        },
        {
            "cell_type": "code",
            "execution_count": 14,
            "metadata": {},
            "outputs": [
                {
                    "data": {
                        "text/plain": "'Good'"
                    },
                    "execution_count": 14,
                    "metadata": {},
                    "output_type": "execute_result"
                }
            ],
            "source": "Good=\"GsoAo+d\"\nGood[::2]"
        },
        {
            "cell_type": "markdown",
            "metadata": {},
            "source": "<h3 align=center>uppercase to UPPERCASE </h3> "
        },
        {
            "cell_type": "markdown",
            "metadata": {},
            "source": "Convert the following string to uppercase using the method <code>upper()</code>"
        },
        {
            "cell_type": "code",
            "execution_count": 18,
            "metadata": {},
            "outputs": [
                {
                    "data": {
                        "text/plain": "'UPPERCASE'"
                    },
                    "execution_count": 18,
                    "metadata": {},
                    "output_type": "execute_result"
                }
            ],
            "source": "name=\"uppercase\"\nname.upper()"
        },
        {
            "cell_type": "markdown",
            "metadata": {},
            "source": "<hr>\n<small>Copyright &copy; 2018 IBM Cognitive Class. This notebook and its source code are released under the terms of the [MIT License](https://cognitiveclass.ai/mit-license/).</small>"
        }
    ],
    "metadata": {
        "kernelspec": {
            "display_name": "Python 3.7",
            "language": "python",
            "name": "python3"
        },
        "language_info": {
            "codemirror_mode": {
                "name": "ipython",
                "version": 3
            },
            "file_extension": ".py",
            "mimetype": "text/x-python",
            "name": "python",
            "nbconvert_exporter": "python",
            "pygments_lexer": "ipython3",
            "version": "3.7.9"
        }
    },
    "nbformat": 4,
    "nbformat_minor": 2
}